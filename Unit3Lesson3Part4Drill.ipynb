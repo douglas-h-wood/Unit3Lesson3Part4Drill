{
 "cells": [
  {
   "cell_type": "code",
   "execution_count": 1,
   "metadata": {},
   "outputs": [],
   "source": [
    "import numpy as np\n",
    "import pandas as pd\n",
    "import matplotlib.pyplot as plt\n",
    "%matplotlib inline"
   ]
  },
  {
   "cell_type": "code",
   "execution_count": 25,
   "metadata": {},
   "outputs": [],
   "source": [
    "VonMisesVar = np.random.vonmises(10,20, 100)"
   ]
  },
  {
   "cell_type": "code",
   "execution_count": 26,
   "metadata": {},
   "outputs": [
    {
     "data": {
      "text/plain": [
       "<function matplotlib.pyplot.show>"
      ]
     },
     "execution_count": 26,
     "metadata": {},
     "output_type": "execute_result"
    },
    {
     "data": {
      "image/png": "[encoded data removed]",
      "text/plain": [
       "<matplotlib.figure.Figure at 0x113ed99b0>"
      ]
     },
     "metadata": {},
     "output_type": "display_data"
    }
   ],
   "source": [
    "plt.hist(VonMisesVar)\n",
    "plt.axvline(VonMisesVar.mean(), color='r', linestyle='solid', linewidth=2)\n",
    "plt.axvline(VonMisesVar.mean() + VonMisesVar.std(), color='r', linestyle='dashed', linewidth=2)\n",
    "plt.axvline(VonMisesVar.mean() - VonMisesVar.std(), color='r', linestyle='dashed', linewidth=2)\n",
    "plt.show"
   ]
  },
  {
   "cell_type": "markdown",
   "metadata": {},
   "source": [
    "In this case, the mean is somewhat useful, because nearly all the data does cluster around the mean. However, the data is skewed to the left. The standard deviation is also somewhat useful, in that nearly all the data is clustered well within one standard deviation of the mean."
   ]
  },
  {
   "cell_type": "code",
   "execution_count": 27,
   "metadata": {},
   "outputs": [],
   "source": [
    "ParetoVar = np.random.pareto(10,100)"
   ]
  },
  {
   "cell_type": "code",
   "execution_count": 28,
   "metadata": {},
   "outputs": [
    {
     "data": {
      "text/plain": [
       "<function matplotlib.pyplot.show>"
      ]
     },
     "execution_count": 28,
     "metadata": {},
     "output_type": "execute_result"
    },
    {
     "data": {
      "image/png": "[encoded data removed]",
      "text/plain": [
       "<matplotlib.figure.Figure at 0x113fb2b38>"
      ]
     },
     "metadata": {},
     "output_type": "display_data"
    }
   ],
   "source": [
    "plt.hist(ParetoVar)\n",
    "plt.axvline(ParetoVar.mean(), color='r', linestyle='solid', linewidth=2)\n",
    "plt.axvline(ParetoVar.mean() + ParetoVar.std(), color='r', linestyle='dashed', linewidth=2)\n",
    "plt.axvline(ParetoVar.mean() - ParetoVar.std(), color='r', linestyle='dashed', linewidth=2)\n",
    "plt.show"
   ]
  },
  {
   "cell_type": "markdown",
   "metadata": {},
   "source": [
    "In this case, the mean is somewhat useful, because most of the data does cluster around the mean. However, the data is skewed to the left. The standard deviation is also somewhat useful, in that most of the data is clustered within one standard deviation of the mean."
   ]
  },
  {
   "cell_type": "code",
   "execution_count": 29,
   "metadata": {},
   "outputs": [],
   "source": [
    "ChiSquareVar = np.random.chisquare(3,100)"
   ]
  },
  {
   "cell_type": "code",
   "execution_count": 42,
   "metadata": {},
   "outputs": [
    {
     "data": {
      "text/plain": [
       "<function matplotlib.pyplot.show>"
      ]
     },
     "execution_count": 42,
     "metadata": {},
     "output_type": "execute_result"
    },
    {
     "data": {
      "image/png": "[encoded data removed]",
      "text/plain": [
       "<matplotlib.figure.Figure at 0x1138a6550>"
      ]
     },
     "metadata": {},
     "output_type": "display_data"
    }
   ],
   "source": [
    "plt.hist(ChiSquareVar)\n",
    "plt.axvline(ChiSquareVar.mean(), color='r', linestyle='solid', linewidth=2)\n",
    "plt.axvline(ChiSquareVar.mean() + ChiSquareVar.std(), color='r', linestyle='dashed', linewidth=2)\n",
    "plt.axvline(ChiSquareVar.mean() - ChiSquareVar.std(), color='r', linestyle='dashed', linewidth=2)\n",
    "plt.show"
   ]
  },
  {
   "cell_type": "markdown",
   "metadata": {},
   "source": [
    "In this case, the mean is not particularly useful, because the data does not cluster around the mean. Also, the data is skewed to the left. The standard deviation is somewhat useful, in that most of the data lies within two standard deviations of the mean."
   ]
  },
  {
   "cell_type": "code",
   "execution_count": 34,
   "metadata": {},
   "outputs": [],
   "source": [
    "UniformVar = np.random.uniform(0,50,100)"
   ]
  },
  {
   "cell_type": "code",
   "execution_count": 38,
   "metadata": {},
   "outputs": [
    {
     "data": {
      "text/plain": [
       "<function matplotlib.pyplot.show>"
      ]
     },
     "execution_count": 38,
     "metadata": {},
     "output_type": "execute_result"
    },
    {
     "data": {
      "image/png": "[encoded data removed]",
      "text/plain": [
       "<matplotlib.figure.Figure at 0x113957438>"
      ]
     },
     "metadata": {},
     "output_type": "display_data"
    }
   ],
   "source": [
    "plt.hist(UniformVar)\n",
    "plt.axvline(UniformVar.mean(), color='r', linestyle='solid', linewidth=2)\n",
    "plt.axvline(UniformVar.mean() + UniformVar.std(), color='r', linestyle='dashed', linewidth=2)\n",
    "plt.axvline(UniformVar.mean() - UniformVar.std(), color='r', linestyle='dashed', linewidth=2)\n",
    "plt.show"
   ]
  },
  {
   "cell_type": "markdown",
   "metadata": {},
   "source": [
    "In this case, niether the mean nor the standard deviation are useful, because the data does not have a central tendency - it is uniformly spread out."
   ]
  },
  {
   "cell_type": "code",
   "execution_count": 37,
   "metadata": {},
   "outputs": [],
   "source": [
    "WeibullVar = np.random.weibull(10,100)"
   ]
  },
  {
   "cell_type": "code",
   "execution_count": 39,
   "metadata": {},
   "outputs": [
    {
     "data": {
      "text/plain": [
       "<function matplotlib.pyplot.show>"
      ]
     },
     "execution_count": 39,
     "metadata": {},
     "output_type": "execute_result"
    },
    {
     "data": {
      "image/png": "[encoded data removed]",
      "text/plain": [
       "<matplotlib.figure.Figure at 0x113eefda0>"
      ]
     },
     "metadata": {},
     "output_type": "display_data"
    }
   ],
   "source": [
    "plt.hist(WeibullVar)\n",
    "plt.axvline(WeibullVar.mean(), color='r', linestyle='solid', linewidth=2)\n",
    "plt.axvline(WeibullVar.mean() + WeibullVar.std(), color='r', linestyle='dashed', linewidth=2)\n",
    "plt.axvline(WeibullVar.mean() - WeibullVar.std(), color='r', linestyle='dashed', linewidth=2)\n",
    "plt.show"
   ]
  },
  {
   "cell_type": "markdown",
   "metadata": {},
   "source": [
    "In this case, both the mean and the standard deviation are useful measures of central tendency, because the distribution resembles a normal distribution, skewed slightly to the right."
   ]
  },
  {
   "cell_type": "code",
   "execution_count": 40,
   "metadata": {},
   "outputs": [],
   "source": [
    "ZipfVar = np.random.zipf(10,100)"
   ]
  },
  {
   "cell_type": "code",
   "execution_count": 49,
   "metadata": {},
   "outputs": [
    {
     "data": {
      "text/plain": [
       "<function matplotlib.pyplot.show>"
      ]
     },
     "execution_count": 49,
     "metadata": {},
     "output_type": "execute_result"
    },
    {
     "data": {
      "image/png": "[encoded data removed]",
      "text/plain": [
       "<matplotlib.figure.Figure at 0x11444c320>"
      ]
     },
     "metadata": {},
     "output_type": "display_data"
    }
   ],
   "source": [
    "plt.hist(ZipfVar)\n",
    "plt.axvline(ZipfVar.mean(), color='r', linestyle='solid', linewidth=2)\n",
    "plt.axvline(ZipfVar.mean() + ZipfVar.std(), color='r', linestyle='dashed', linewidth=2)\n",
    "plt.axvline(ZipfVar.mean() - ZipfVar.std(), color='r', linestyle='dashed', linewidth=2)\n",
    "plt.show"
   ]
  },
  {
   "cell_type": "markdown",
   "metadata": {},
   "source": [
    "In this case, neither mean nor standard deviation are useful because all of the data is centrally distributed, and there is no deviation from the mean."
   ]
  },
  {
   "cell_type": "code",
   "execution_count": 50,
   "metadata": {},
   "outputs": [
    {
     "data": {
      "image/png": "[encoded data removed]",
      "text/plain": [
       "<matplotlib.figure.Figure at 0x113c94a58>"
      ]
     },
     "metadata": {},
     "output_type": "display_data"
    }
   ],
   "source": [
    "mean = 5 \n",
    "sd = 0.5\n",
    "n = 1000\n",
    "mean2 = 10\n",
    "sd2 = 1\n",
    "\n",
    "rand = np.random.normal(mean, sd, n)\n",
    "rand2 = np.random.normal(mean2,sd2,n)\n",
    "sum_rand = rand + rand2\n",
    "df = pd.DataFrame(sum_rand)\n",
    "df.hist()\n",
    "plt.axvline(sum_rand.mean(), color='r', linestyle='solid', linewidth=2)\n",
    "plt.axvline(sum_rand.mean() + sum_rand.std(), color='r', linestyle='dashed', linewidth=2)\n",
    "plt.axvline(sum_rand.mean() - sum_rand.std(), color='r', linestyle='dashed', linewidth=2)\n",
    "plt.show()"
   ]
  },
  {
   "cell_type": "code",
   "execution_count": 51,
   "metadata": {},
   "outputs": [
    {
     "data": {
      "text/plain": [
       "15.04647621746645"
      ]
     },
     "execution_count": 51,
     "metadata": {},
     "output_type": "execute_result"
    }
   ],
   "source": [
    "sum_rand.mean()"
   ]
  },
  {
   "cell_type": "markdown",
   "metadata": {},
   "source": [
    "It looks likes the mean of the summed variables is the mean of each separate variable added together (5 + 10 = 15)."
   ]
  },
  {
   "cell_type": "code",
   "execution_count": 52,
   "metadata": {},
   "outputs": [
    {
     "data": {
      "text/plain": [
       "1.1249701209942011"
      ]
     },
     "execution_count": 52,
     "metadata": {},
     "output_type": "execute_result"
    }
   ],
   "source": [
    "sum_rand.std()"
   ]
  },
  {
   "cell_type": "markdown",
   "metadata": {},
   "source": [
    "Interestingly, the standard deviation of the total does not appear to be just the sum of the two standard deviations."
   ]
  },
  {
   "cell_type": "code",
   "execution_count": null,
   "metadata": {},
   "outputs": [],
   "source": []
  }
 ],
 "metadata": {
  "kernelspec": {
   "display_name": "Python 3",
   "language": "python",
   "name": "python3"
  },
  "language_info": {
   "codemirror_mode": {
    "name": "ipython",
    "version": 3
   },
   "file_extension": ".py",
   "mimetype": "text/x-python",
   "name": "python",
   "nbconvert_exporter": "python",
   "pygments_lexer": "ipython3",
   "version": "3.6.2"
  }
 },
 "nbformat": 4,
 "nbformat_minor": 2
}
